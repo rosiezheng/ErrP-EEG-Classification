{
 "cells": [
  {
   "cell_type": "markdown",
   "metadata": {},
   "source": [
    "## Classification with GAN-augmentation and Transformer\n",
    "\n",
    "This notebook implements and evaluates a GAN-augmented Transformer pipeline for the classification of EEG error-related potentials (ErrPs).\n",
    "\n",
    "Steps:\n",
    "\n",
    "1. Loads preprocessed EEG epochs, labels, subject/session information, and trial indices from disk (prepared by data_preprocessing_aggregation.ipynb).\n",
    "2. Splits data into error and correct trials to enable label-aware processing and augmentation.\n",
    "3. Trains a Generative Adversarial Network (GAN) to synthesize error trials, addressing class imbalance in the training set for each cross-validation fold.\n",
    "4. Applies a Transformer-based neural network classifier, using GAN-augmented and real training data for model fitting.\n",
    "5. Performs stratified K-fold cross-validation to robustly evaluate classification performance.\n",
    "6. Collects, summarizes, and saves metrics (e.g., balanced accuracy, F1, recall) along with experiment parameters to JSON files for reproducibility and further analysis.\n",
    "\n",
    "All code is modular and uses the bci_utils.py toolkit for model definition, augmentation, cross-validation, and results management."
   ]
  },
  {
   "cell_type": "code",
   "execution_count": null,
   "metadata": {},
   "outputs": [],
   "source": [
    "import os\n",
    "import numpy as np\n",
    "import matplotlib.pyplot as plt\n",
    "import json\n",
    "import bci_utils\n",
    "\n",
    "from datetime import datetime\n",
    "\n",
    "import torch\n",
    "import torch.nn as nn\n",
    "import torch.optim as optim\n",
    "from torch.utils.data import TensorDataset, DataLoader\n",
    "\n",
    "from sklearn.svm import LinearSVC\n",
    "from sklearn.model_selection import cross_val_score, StratifiedKFold\n",
    "from sklearn.model_selection import LeaveOneGroupOut\n",
    "from sklearn.metrics import (\n",
    "    confusion_matrix, precision_score, recall_score, f1_score,\n",
    "    balanced_accuracy_score, roc_auc_score, roc_curve, accuracy_score\n",
    ")"
   ]
  },
  {
   "cell_type": "code",
   "execution_count": null,
   "metadata": {},
   "outputs": [],
   "source": [
    "# Load preprocessed data output from data_preprocessing_aggregation.ipynb\n",
    "all_epochs = np.load(\"/Users/Rosie/Documents/Applications/HRC_BCI_VU/Casus_BCI_classifier/data_preprocessed/all_epochs.npy\")\n",
    "all_labels = np.load(\"/Users/Rosie/Documents/Applications/HRC_BCI_VU/Casus_BCI_classifier/data_preprocessed/all_labels.npy\") \n",
    "all_subjects = np.load(\"/Users/Rosie/Documents/Applications/HRC_BCI_VU/Casus_BCI_classifier/data_preprocessed/all_subjects.npy\") \n",
    "all_sessions = np.load(\"/Users/Rosie/Documents/Applications/HRC_BCI_VU/Casus_BCI_classifier/data_preprocessed/all_sessions.npy\") \n",
    "all_trials = np.load(\"/Users/Rosie/Documents/Applications/HRC_BCI_VU/Casus_BCI_classifier/data_preprocessed/all_trials.npy\") "
   ]
  },
  {
   "cell_type": "code",
   "execution_count": null,
   "metadata": {},
   "outputs": [],
   "source": [
    "# Error and correct masks\n",
    "error_mask = all_labels == 1\n",
    "correct_mask = all_labels == 0\n",
    "\n",
    "# Split arrays\n",
    "error_epochs = all_epochs[error_mask]\n",
    "correct_epochs = all_epochs[correct_mask]\n",
    "\n",
    "error_labels = all_labels[error_mask]\n",
    "correct_labels = all_labels[correct_mask]\n",
    "\n",
    "print('Error epochs shape:', error_epochs.shape)\n",
    "print('Correct epochs shape:', correct_epochs.shape)\n",
    "\n",
    "print('Error labels shape:', error_labels.shape)\n",
    "print('Correct labels shape:', correct_labels.shape)"
   ]
  },
  {
   "cell_type": "markdown",
   "metadata": {},
   "source": [
    "### Stratified 5-fold cross-validation"
   ]
  },
  {
   "cell_type": "code",
   "execution_count": null,
   "metadata": {},
   "outputs": [],
   "source": [
    "%%time\n",
    "\n",
    "# Run cross-validation for GAN-augmented Transformer classifier on EEG error potential data\n",
    "# Only the training set in each fold is augmented with synthetic error trials (never the test set)\n",
    "pooled_metrics, fold_means, fold_stds = bci_utils.crossval_gan_augmented_transformer(\n",
    "    correct_epochs, error_epochs, correct_labels, error_labels,\n",
    "    n_splits=5, latent_dim=32, n_gan_epochs=1000,\n",
    "    transformer_epochs=20, batch_size=32, lr=1e-3, plot_roc=False, random_state=42\n",
    ")\n",
    "\n",
    "# Store parameters used for this experiment (for traceability in result files)\n",
    "params = {\n",
    "    \"classifier\": \"Transformer\",        \n",
    "    \"cv_method\": \"StratifiedKFold\",        \n",
    "    \"n_splits\": 5,                     \n",
    "    \"bandpass\": \"0.5-10 Hz\",              \n",
    "    \"epoch_window\": \"209-600 ms\",        \n",
    "    \"augmentation\": \"GAN\"   \n",
    "}\n",
    "\n",
    "# Save cross-validation results (metrics, parameters, timestamp) to a JSON file for reproducibility\n",
    "bci_utils.save_crossval_results(\n",
    "    \"crossval_metrics_stratified_kfold\", pooled_metrics, fold_means, fold_stds, params\n",
    ")"
   ]
  },
  {
   "cell_type": "markdown",
   "metadata": {},
   "source": [
    "### Leave-one-subject-out cross-validation"
   ]
  },
  {
   "cell_type": "code",
   "execution_count": null,
   "metadata": {},
   "outputs": [],
   "source": [
    "%%time\n",
    "\n",
    "# Run cross-validation for GAN-augmented Transformer classifier on EEG error potential data\n",
    "# Only the training set in each fold is augmented with synthetic error trials (never the test set)\n",
    "# For leave-one-subject-out:\n",
    "pooled_metrics, fold_means, fold_stds = bci_utils.crossval_gan_augmented_transformer_logo(\n",
    "    correct_epochs, error_epochs, correct_labels, error_labels,\n",
    "    all_subjects,  # shape (n_trials,)\n",
    "    latent_dim=32, n_gan_epochs=1000, transformer_epochs=20, batch_size=32, lr=1e-3, plot_roc=True\n",
    ")\n",
    "print(pooled_metrics)\n",
    "\n",
    "params = {\n",
    "    \"classifier\": \"Transformer\",\n",
    "    \"cv_method\": \"LOGO-subject\",\n",
    "    \"bandpass\": \"0.5-10 Hz\",\n",
    "    \"epoch_window\": \"209-600 ms\",\n",
    "    \"augmentation\": \"GAN\"\n",
    "}\n",
    "\n",
    "bci_utils.save_crossval_results(\n",
    "    \"crossval_metrics_stratified_kfold\", pooled_metrics, fold_means, fold_stds, params\n",
    ")"
   ]
  },
  {
   "cell_type": "markdown",
   "metadata": {},
   "source": [
    "### Leave-one-session-out cross-validation"
   ]
  },
  {
   "cell_type": "code",
   "execution_count": null,
   "metadata": {},
   "outputs": [],
   "source": [
    "%%time\n",
    "\n",
    "# Run cross-validation for GAN-augmented Transformer classifier on EEG error potential data\n",
    "# Only the training set in each fold is augmented with synthetic error trials (never the test set)\n",
    "# For leave-one-session-out:\n",
    "pooled_metrics, fold_means, fold_stds = bci_utils.crossval_gan_augmented_transformer_logo(\n",
    "    correct_epochs, error_epochs, correct_labels, error_labels,\n",
    "    all_sessions,  # shape (n_trials,)\n",
    "    latent_dim=32, n_gan_epochs=1000, transformer_epochs=20, batch_size=32, lr=1e-3, plot_roc=True\n",
    ")\n",
    "print(pooled_metrics)\n",
    "\n",
    "params = {\n",
    "    \"classifier\": \"Transformer\",\n",
    "    \"cv_method\": \"LOGO-session\",\n",
    "    \"bandpass\": \"0.5-10 Hz\",\n",
    "    \"epoch_window\": \"209-600 ms\",\n",
    "    \"augmentation\": \"GAN\"\n",
    "}\n",
    "\n",
    "bci_utils.save_crossval_results(\n",
    "    \"crossval_metrics_stratified_kfold\", pooled_metrics, fold_means, fold_stds, params\n",
    ")"
   ]
  }
 ],
 "metadata": {
  "kernelspec": {
   "display_name": "Python 3 (ipykernel)",
   "language": "python",
   "name": "python3"
  },
  "language_info": {
   "codemirror_mode": {
    "name": "ipython",
    "version": 3
   },
   "file_extension": ".py",
   "mimetype": "text/x-python",
   "name": "python",
   "nbconvert_exporter": "python",
   "pygments_lexer": "ipython3",
   "version": "3.9.23"
  }
 },
 "nbformat": 4,
 "nbformat_minor": 4
}
