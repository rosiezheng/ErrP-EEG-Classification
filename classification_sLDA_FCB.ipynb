{
 "cells": [
  {
   "cell_type": "markdown",
   "metadata": {},
   "source": [
    "## Classification with shrinkage-regularized Linear Discriminant Analysis\n",
    "\n",
    "This notebook evaluates the performance of shrinkage-regularized Linear Discriminant Analysis (sLDA) for the classification of EEG error-related potentials (ErrPs) using features extracted by the Fisher Criterion Beamformer (FCB).\n",
    "\n",
    "Steps:\n",
    "\n",
    "1. Loads preprocessed EEG features, labels, subject/session IDs, and trials from disk (output of feature_extraction_selection.ipynb).\n",
    "2. Searches for the optimal number of FCB projections (spatial filters) by cross-validating sLDA classifiers on the training data.\n",
    "3. Runs stratified K-fold cross-validation to assess classification performance and saves results (metrics, parameters) for each configuration.\n",
    "4. Evaluates generalization across subjects and sessions using leave-one-group-out (LOGO) cross-validation.\n",
    "5. Stores results in JSON files.\n",
    "\n",
    "All classification metrics and parameter settings are saved for later analysis.\n",
    "All code relies on the bci_utils.py utility file for data processing, cross-validation, and results saving."
   ]
  },
  {
   "cell_type": "code",
   "execution_count": null,
   "metadata": {},
   "outputs": [],
   "source": [
    "import os\n",
    "import numpy as np\n",
    "import matplotlib.pyplot as plt\n",
    "import json\n",
    "import bci_utils\n",
    "\n",
    "from datetime import datetime\n",
    "\n",
    "from sklearn.svm import LinearSVC\n",
    "from sklearn.discriminant_analysis import LinearDiscriminantAnalysis\n",
    "from sklearn.model_selection import cross_val_score, StratifiedKFold\n",
    "from sklearn.model_selection import LeaveOneGroupOut\n",
    "from sklearn.metrics import (\n",
    "    confusion_matrix, precision_score, recall_score, f1_score,\n",
    "    balanced_accuracy_score, roc_auc_score, roc_curve, accuracy_score\n",
    ")"
   ]
  },
  {
   "cell_type": "code",
   "execution_count": null,
   "metadata": {},
   "outputs": [],
   "source": [
    "# Load preprocessed data with feature extraction from feature_extraction_selection.ipynb\n",
    "all_epochs_proj = np.load(\"/Users/Rosie/Documents/Applications/HRC_BCI_VU/Casus_BCI_classifier/data_preprocessed/all_epochs_proj.npy\")\n",
    "all_labels_proj = np.load(\"/Users/Rosie/Documents/Applications/HRC_BCI_VU/Casus_BCI_classifier/data_preprocessed/all_labels_proj.npy\") \n",
    "all_subjects_proj = np.load(\"/Users/Rosie/Documents/Applications/HRC_BCI_VU/Casus_BCI_classifier/data_preprocessed/all_subjects_proj.npy\") \n",
    "all_sessions_proj = np.load(\"/Users/Rosie/Documents/Applications/HRC_BCI_VU/Casus_BCI_classifier/data_preprocessed/all_sessions_proj.npy\") \n",
    "all_trials_proj = np.load(\"/Users/Rosie/Documents/Applications/HRC_BCI_VU/Casus_BCI_classifier/data_preprocessed/all_trials_proj.npy\") "
   ]
  },
  {
   "cell_type": "code",
   "execution_count": null,
   "metadata": {},
   "outputs": [],
   "source": [
    "# Define labels for training and testing\n",
    "y_fcb = all_labels_proj"
   ]
  },
  {
   "cell_type": "markdown",
   "metadata": {},
   "source": [
    "### Stratified 5-fold cross-validation"
   ]
  },
  {
   "cell_type": "code",
   "execution_count": null,
   "metadata": {},
   "outputs": [],
   "source": [
    "projections = 1\n",
    "\n",
    "# Search for best number of projections\n",
    "for i in range(1, all_epochs_proj.shape[2]):\n",
    "    \n",
    "    all_epochs_proj_ = all_epochs_proj[:, : , :i]\n",
    "    \n",
    "    # Flatten epochs for sLDA: (n_epochs, n_timepoints, n_channels) --> (n_epochs, n_timepoints * n_channels)\n",
    "    X_fcb = all_epochs_proj_.reshape(all_epochs_proj_.shape[0], -1)\n",
    "\n",
    "    metrics, fold_means, fold_stds = bci_utils.crossval_metrics_stratified_kfold(X_fcb, y_fcb, n_splits=5, plot_roc=True, random_state=42)\n",
    "\n",
    "    params = {\n",
    "        \"classifier\": \"sLDA\",\n",
    "        \"cv_method\": \"StratifiedKFold\",\n",
    "        \"bandpass\": \"0.5-10\",\n",
    "        \"epoch_window\": \"200-600 ms\",\n",
    "        \"feature_extraction\": f\"FCB_{projections}\"\n",
    "    }\n",
    "\n",
    "    bci_utils.save_crossval_results(\n",
    "        \"crossval_metrics_stratified_kfold\", metrics, fold_means, fold_stds, params\n",
    "    )\n",
    "    \n",
    "    projections = projections + 1"
   ]
  },
  {
   "cell_type": "markdown",
   "metadata": {},
   "source": [
    "### Leave-one-subject-out cross-validation"
   ]
  },
  {
   "cell_type": "code",
   "execution_count": null,
   "metadata": {},
   "outputs": [],
   "source": [
    "# Continue with number of projections that yielded highest balanced accuracy\n",
    "all_epochs_proj_ = all_epochs_proj[:, : , :55]\n",
    "X_fcb = all_epochs_proj_.reshape(all_epochs_proj_.shape[0], -1)"
   ]
  },
  {
   "cell_type": "code",
   "execution_count": null,
   "metadata": {},
   "outputs": [],
   "source": [
    "%%time\n",
    "\n",
    "metrics, fold_means, fold_stds = bci_utils.crossval_metrics_leave_one_group(X_fcb, y_fcb, all_subjects_proj, plot_roc=True)\n",
    "\n",
    "params = {\n",
    "    \"classifier\": \"sLDA\",\n",
    "    \"cv_method\": \"LOGO-subject\",\n",
    "    \"bandpass\": \"0.5-10\",\n",
    "    \"epoch_window\": \"200-600 ms\",\n",
    "    \"feature_extraction\": \"FCB_55\"\n",
    "}\n",
    "\n",
    "bci_utils.save_crossval_results(\n",
    "    \"crossval_metrics_stratified_kfold\", metrics, fold_means, fold_stds, params\n",
    ")"
   ]
  },
  {
   "cell_type": "markdown",
   "metadata": {},
   "source": [
    "### Leave-one-session-out cross-validation"
   ]
  },
  {
   "cell_type": "code",
   "execution_count": null,
   "metadata": {},
   "outputs": [],
   "source": [
    "metrics, fold_means, fold_stds = bci_utils.crossval_metrics_leave_one_group(X_fcb, y_fcb, all_sessions_proj, plot_roc=True)\n",
    "\n",
    "params = {\n",
    "    \"classifier\": \"sLDA\",\n",
    "    \"cv_method\": \"LOGO-session\",\n",
    "    \"bandpass\": \"0.5-10 Hz\",\n",
    "    \"epoch_window\": \"200-600 ms\",\n",
    "    \"feature_extraction\": \"FCB_55\",\n",
    "}\n",
    "\n",
    "bci_utils.save_crossval_results(\n",
    "    \"crossval_metrics_leave_one_group\", metrics, fold_means, fold_stds, params\n",
    ")"
   ]
  }
 ],
 "metadata": {
  "kernelspec": {
   "display_name": "Python 3 (ipykernel)",
   "language": "python",
   "name": "python3"
  },
  "language_info": {
   "codemirror_mode": {
    "name": "ipython",
    "version": 3
   },
   "file_extension": ".py",
   "mimetype": "text/x-python",
   "name": "python",
   "nbconvert_exporter": "python",
   "pygments_lexer": "ipython3",
   "version": "3.9.23"
  }
 },
 "nbformat": 4,
 "nbformat_minor": 4
}
